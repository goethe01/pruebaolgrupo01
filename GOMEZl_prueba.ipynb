{
  "nbformat": 4,
  "nbformat_minor": 0,
  "metadata": {
    "colab": {
      "provenance": [],
      "authorship_tag": "ABX9TyOvsHvRxTsEk8T3YGdLNcKI",
      "include_colab_link": true
    },
    "kernelspec": {
      "name": "python3",
      "display_name": "Python 3"
    },
    "language_info": {
      "name": "python"
    }
  },
  "cells": [
    {
      "cell_type": "markdown",
      "metadata": {
        "id": "view-in-github",
        "colab_type": "text"
      },
      "source": [
        "<a href=\"https://colab.research.google.com/github/goethe01/pruebaolgrupo01/blob/main/GOMEZl_prueba.ipynb\" target=\"_parent\"><img src=\"https://colab.research.google.com/assets/colab-badge.svg\" alt=\"Open In Colab\"/></a>"
      ]
    },
    {
      "cell_type": "markdown",
      "source": [
        "# mi primera vez"
      ],
      "metadata": {
        "id": "qh88V01-evu6"
      }
    },
    {
      "cell_type": "code",
      "execution_count": 2,
      "metadata": {
        "colab": {
          "base_uri": "https://localhost:8080/"
        },
        "id": "WGJ4LmiOdJud",
        "outputId": "746e28ab-68b9-46c7-a0f2-aa2281a540f3"
      },
      "outputs": [
        {
          "output_type": "stream",
          "name": "stdout",
          "text": [
            "hola mundo\n"
          ]
        }
      ],
      "source": [
        "print(\"buenos dias mundo\")"
      ]
    },
    {
      "cell_type": "markdown",
      "source": [
        "# segundo ejercicio"
      ],
      "metadata": {
        "id": "ZNq3MP35fD5j"
      }
    },
    {
      "cell_type": "markdown",
      "source": [
        "escribir lo que quieran :v"
      ],
      "metadata": {
        "id": "aV3uwZvogGAr"
      }
    },
    {
      "cell_type": "code",
      "source": [
        "print(\"buenos dias, luis\")"
      ],
      "metadata": {
        "colab": {
          "base_uri": "https://localhost:8080/"
        },
        "id": "3eyIRzrMfRQq",
        "outputId": "d8caed05-a40a-4f0c-d405-60614627795e"
      },
      "execution_count": 3,
      "outputs": [
        {
          "output_type": "stream",
          "name": "stdout",
          "text": [
            "buenos dias, luis\n"
          ]
        }
      ]
    }
  ]
}